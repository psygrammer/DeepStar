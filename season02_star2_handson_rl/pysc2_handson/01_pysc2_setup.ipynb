{
 "cells": [
  {
   "cell_type": "markdown",
   "metadata": {},
   "source": [
    "# 01. StarCraft II Learning Environment (PySC2) - 환경설정 및 기초 제어\n",
    "\n",
    "* 김무성 (version 1.0) - 초안 작성\n",
    "* 조남운 (version 1.1) - Hands On RL을 위한 수정"
   ]
  },
  {
   "cell_type": "markdown",
   "metadata": {},
   "source": [
    "## 차례 \n",
    "1. 아나콘다 환경 설정 (필수 아님)\n",
    "2. PySC2 설치\n",
    "3. StarCraft II 설치\n",
    "4. Map and Replay Packs 설치\n",
    "5. 설치 확인 및 간단한 예제 실행"
   ]
  },
  {
   "cell_type": "markdown",
   "metadata": {},
   "source": [
    "--------------------------------"
   ]
  },
  {
   "cell_type": "markdown",
   "metadata": {},
   "source": [
    "# 1. 설치목록"
   ]
  },
  {
   "cell_type": "markdown",
   "metadata": {},
   "source": [
    "\n",
    "## 설치 목록\n",
    "\n",
    "### 필수\n",
    "\n",
    "* python3\n",
    "    * 콘솔, 혹은 터미널을 사용할 일이 있음\n",
    "    * python 개발환경 중 pyCharm, VS code 등 콘솔과 터미널을 제공하는 것을 사용해도 됨\n",
    "* Starcraft 2 - 용량이 크므로 반드시 미리 설치하길 권장\n",
    "* pysc2 \n",
    "\n",
    "### 선택\n",
    "\n",
    "* 아나콘다\n",
    "    * https://www.anaconda.com/distribution/\n",
    "    * 파이썬 설치 가상환경을 구성할 수 있다면 꼭 아나콘다 사용하지 않아도 됩니다.\n",
    "    * 생소한 사람은 아래 [https://dojang.io/mod/page/view.php?id=2457](https://dojang.io/mod/page/view.php?id=2457) 참고\n",
    "* git"
   ]
  },
  {
   "cell_type": "markdown",
   "metadata": {},
   "source": [
    "# 2. PySC2 설치"
   ]
  },
  {
   "cell_type": "markdown",
   "metadata": {},
   "source": [
    "#### 참고자료 \n",
    "* https://github.com/deepmind/pysc2 [1]"
   ]
  },
  {
   "cell_type": "markdown",
   "metadata": {},
   "source": [
    "```shell\n",
    "$ pip install --upgrade pip\n",
    "$ pip install pysc2\n",
    "```"
   ]
  },
  {
   "cell_type": "markdown",
   "metadata": {},
   "source": [
    "# 3. StarCraft II 설치 "
   ]
  },
  {
   "cell_type": "markdown",
   "metadata": {},
   "source": [
    "#### 참고자료 \n",
    "* https://github.com/deepmind/pysc2#get-starcraft-ii\n",
    "* 리눅스의 경우는 이번 자료에서는 위 참고링크를 참조할 것. 앞으로 리눅스 환경은 생략."
   ]
  },
  {
   "cell_type": "markdown",
   "metadata": {},
   "source": [
    "Windows/MacOS의 경우\n",
    "* Battle.net 가입 - https://battle.net/\n",
    "* 스타2 무료 체험판 -> 클라이언트 다운로드    "
   ]
  },
  {
   "cell_type": "markdown",
   "metadata": {},
   "source": [
    "<img src=\"figures/sc2_01.jpeg\" width=400 />\n",
    "<img src=\"figures/sc2_02.jpeg\" width=400 />"
   ]
  },
  {
   "cell_type": "markdown",
   "metadata": {},
   "source": [
    "기본 설치 경로는 보통 다음과 같다.\n",
    "```shell\n",
    "Windows: C:\\Program Files (x86)\\StarCraft II\\\n",
    "Mac: /Applications/StarCraft II/\n",
    "On Linux, the installation directory is the folder you extracted the linux package into.\n",
    "```"
   ]
  },
  {
   "cell_type": "markdown",
   "metadata": {},
   "source": [
    "# 4. Map and Replay Packs 설치"
   ]
  },
  {
   "cell_type": "markdown",
   "metadata": {},
   "source": [
    "#### 참고자료\n",
    "* https://github.com/deepmind/pysc2#get-the-maps"
   ]
  },
  {
   "cell_type": "markdown",
   "metadata": {},
   "source": [
    "스타2 기본 설치 디렉토리에 Maps라는 디렉토리를 만든다. 앞으로 이 디렉토리에 Map Pack과 미니게임들을 다운로드하여 압축을 풀어야 한다. \n",
    "\n",
    "```shell\n",
    "StarCraft II/Maps\n",
    "```"
   ]
  },
  {
   "cell_type": "markdown",
   "metadata": {},
   "source": [
    "### Map Pack 다운로드\n",
    "* 다운로드 링크 - https://github.com/Blizzard/s2client-proto#downloads\n",
    "* 해당 링크에서 다음의 2개 Map Pack이 필요하다. \n",
    "    - Ladder 2019 Season 1 - http://blzdistsc2-a.akamaihd.net/MapPacks/Ladder2019Season1.zip\n",
    "    - Melee - http://blzdistsc2-a.akamaihd.net/MapPacks/Melee.zip\n",
    "* 이 팩들은 압축을 풀 때 암호를 물어본다. \n",
    "    - 패스워드 : 'iagreetotheeula'\n",
    "    - (참고) https://github.com/Blizzard/s2client-proto#downloads\n",
    "* 기타 다른 맵들은 아래 링크 참고\n",
    "    - (참고) https://github.com/Blizzard/s2client-proto#map-packs"
   ]
  },
  {
   "cell_type": "markdown",
   "metadata": {},
   "source": [
    "### Mini Games 다운로드 \n",
    "* 다운로드 링크 - https://github.com/deepmind/pysc2/releases/download/v1.2/mini_games.zip"
   ]
  },
  {
   "cell_type": "markdown",
   "metadata": {},
   "source": [
    "# 5. 설치 확인 및 간단한 예제 실행"
   ]
  },
  {
   "cell_type": "markdown",
   "metadata": {},
   "source": [
    "### List the maps"
   ]
  },
  {
   "cell_type": "markdown",
   "metadata": {},
   "source": [
    "```shell\n",
    "$ python -m pysc2.bin.map_list\n",
    "```"
   ]
  },
  {
   "cell_type": "code",
   "execution_count": 1,
   "metadata": {},
   "outputs": [
    {
     "name": "stdout",
     "output_type": "stream",
     "text": [
      "16Bit\r\n",
      "    Ladder2018Season2/(2)16-BitLE.SC2Map\r\n",
      "    players: 2, score_index: -1, score_multiplier: 1\r\n",
      "    step_mul: 8, game_steps_per_episode: 28800 \r\n",
      "\r\n",
      "Abiogenesis\r\n",
      "    Ladder2018Season1/AbiogenesisLE.SC2Map\r\n",
      "    players: 2, score_index: -1, score_multiplier: 1\r\n",
      "    step_mul: 8, game_steps_per_episode: 28800 \r\n",
      "\r\n",
      "AbyssalReef\r\n",
      "    Ladder2017Season4/AbyssalReefLE.SC2Map\r\n",
      "    players: 2, score_index: -1, score_multiplier: 1\r\n",
      "    step_mul: 8, game_steps_per_episode: 28800 \r\n",
      "\r\n",
      "AcidPlant\r\n",
      "    Ladder2018Season3/AcidPlantLE.SC2Map\r\n",
      "    players: 2, score_index: -1, score_multiplier: 1\r\n",
      "    step_mul: 8, game_steps_per_episode: 28800 \r\n",
      "\r\n",
      "Acolyte\r\n",
      "    Ladder2017Season3/AcolyteLE.SC2Map\r\n",
      "    players: 2, score_index: -1, score_multiplier: 1\r\n",
      "    step_mul: 8, game_steps_per_episode: 28800 \r\n",
      "\r\n",
      "AscensiontoAiur\r\n",
      "    Ladder2017Season4/AscensiontoAiurLE.SC2Map\r\n",
      "    players: 2, score_index: -1, score_multiplier: 1\r\n",
      "    step_mul: 8, game_steps_per_episode: 28800 \r\n",
      "\r\n",
      "Automaton\r\n",
      "    Ladder2019Season1/AutomatonLE.SC2Map\r\n",
      "    players: 2, score_index: -1, score_multiplier: 1\r\n",
      "    step_mul: 8, game_steps_per_episode: 28800 \r\n",
      "\r\n",
      "Backwater\r\n",
      "    Ladder2018Season1/BackwaterLE.SC2Map\r\n",
      "    players: 2, score_index: -1, score_multiplier: 1\r\n",
      "    step_mul: 8, game_steps_per_episode: 28800 \r\n",
      "\r\n",
      "BattleontheBoardwalk\r\n",
      "    Ladder2017Season4/BattleontheBoardwalkLE.SC2Map\r\n",
      "    players: 2, score_index: -1, score_multiplier: 1\r\n",
      "    step_mul: 8, game_steps_per_episode: 28800 \r\n",
      "\r\n",
      "BelShirVestige\r\n",
      "    Ladder2017Season1/BelShirVestigeLE.SC2Map\r\n",
      "    players: 2, score_index: -1, score_multiplier: 1\r\n",
      "    step_mul: 8, game_steps_per_episode: 28800 \r\n",
      "\r\n",
      "Blackpink\r\n",
      "    Ladder2018Season1/BlackpinkLE.SC2Map\r\n",
      "    players: 2, score_index: -1, score_multiplier: 1\r\n",
      "    step_mul: 8, game_steps_per_episode: 28800 \r\n",
      "\r\n",
      "BloodBoil\r\n",
      "    Ladder2017Season2/BloodBoilLE.SC2Map\r\n",
      "    players: 2, score_index: -1, score_multiplier: 1\r\n",
      "    step_mul: 8, game_steps_per_episode: 28800 \r\n",
      "\r\n",
      "Blueshift\r\n",
      "    Ladder2018Season4/BlueshiftLE.SC2Map\r\n",
      "    players: 2, score_index: -1, score_multiplier: 1\r\n",
      "    step_mul: 8, game_steps_per_episode: 28800 \r\n",
      "\r\n",
      "BuildMarines\r\n",
      "    mini_games/BuildMarines.SC2Map\r\n",
      "    players: 1, score_index: 0, score_multiplier: 1\r\n",
      "    step_mul: 8, game_steps_per_episode: 0 \r\n",
      "\r\n",
      "CactusValley\r\n",
      "    Ladder2017Season1/CactusValleyLE.SC2Map\r\n",
      "    players: 4, score_index: -1, score_multiplier: 1\r\n",
      "    step_mul: 8, game_steps_per_episode: 28800 \r\n",
      "\r\n",
      "Catalyst\r\n",
      "    Ladder2018Season2/(2)CatalystLE.SC2Map\r\n",
      "    players: 2, score_index: -1, score_multiplier: 1\r\n",
      "    step_mul: 8, game_steps_per_episode: 28800 \r\n",
      "\r\n",
      "CeruleanFall\r\n",
      "    Ladder2018Season4/CeruleanFallLE.SC2Map\r\n",
      "    players: 2, score_index: -1, score_multiplier: 1\r\n",
      "    step_mul: 8, game_steps_per_episode: 28800 \r\n",
      "\r\n",
      "CollectMineralShards\r\n",
      "    mini_games/CollectMineralShards.SC2Map\r\n",
      "    players: 1, score_index: 0, score_multiplier: 1\r\n",
      "    step_mul: 8, game_steps_per_episode: 0 \r\n",
      "\r\n",
      "CollectMineralsAndGas\r\n",
      "    mini_games/CollectMineralsAndGas.SC2Map\r\n",
      "    players: 1, score_index: 0, score_multiplier: 1\r\n",
      "    step_mul: 8, game_steps_per_episode: 0 \r\n",
      "\r\n",
      "CyberForest\r\n",
      "    Ladder2019Season1/CyberForestLE.SC2Map\r\n",
      "    players: 2, score_index: -1, score_multiplier: 1\r\n",
      "    step_mul: 8, game_steps_per_episode: 28800 \r\n",
      "\r\n",
      "DarknessSanctuary\r\n",
      "    Ladder2018Season2/(4)DarknessSanctuaryLE.SC2Map\r\n",
      "    players: 4, score_index: -1, score_multiplier: 1\r\n",
      "    step_mul: 8, game_steps_per_episode: 28800 \r\n",
      "\r\n",
      "DefeatRoaches\r\n",
      "    mini_games/DefeatRoaches.SC2Map\r\n",
      "    players: 1, score_index: 0, score_multiplier: 1\r\n",
      "    step_mul: 8, game_steps_per_episode: 0 \r\n",
      "\r\n",
      "DefeatZerglingsAndBanelings\r\n",
      "    mini_games/DefeatZerglingsAndBanelings.SC2Map\r\n",
      "    players: 1, score_index: 0, score_multiplier: 1\r\n",
      "    step_mul: 8, game_steps_per_episode: 0 \r\n",
      "\r\n",
      "DefendersLanding\r\n",
      "    Ladder2017Season2/DefendersLandingLE.SC2Map\r\n",
      "    players: 2, score_index: -1, score_multiplier: 1\r\n",
      "    step_mul: 8, game_steps_per_episode: 28800 \r\n",
      "\r\n",
      "Dreamcatcher\r\n",
      "    Ladder2018Season3/DreamcatcherLE.SC2Map\r\n",
      "    players: 2, score_index: -1, score_multiplier: 1\r\n",
      "    step_mul: 8, game_steps_per_episode: 28800 \r\n",
      "\r\n",
      "Eastwatch\r\n",
      "    Ladder2018Season1/EastwatchLE.SC2Map\r\n",
      "    players: 2, score_index: -1, score_multiplier: 1\r\n",
      "    step_mul: 8, game_steps_per_episode: 28800 \r\n",
      "\r\n",
      "FindAndDefeatZerglings\r\n",
      "    mini_games/FindAndDefeatZerglings.SC2Map\r\n",
      "    players: 1, score_index: 0, score_multiplier: 1\r\n",
      "    step_mul: 8, game_steps_per_episode: 0 \r\n",
      "\r\n",
      "Flat128\r",
      "\r\n",
      "    Melee/Flat128.SC2Map\r\n",
      "    players: 2, score_index: -1, score_multiplier: 1\r\n",
      "    step_mul: 8, game_steps_per_episode: 28800 \r\n",
      "\r\n",
      "Flat32\r\n",
      "    Melee/Flat32.SC2Map\r\n",
      "    players: 2, score_index: -1, score_multiplier: 1\r\n",
      "    step_mul: 8, game_steps_per_episode: 28800 \r\n",
      "\r\n",
      "Flat48\r\n",
      "    Melee/Flat48.SC2Map\r\n",
      "    players: 2, score_index: -1, score_multiplier: 1\r\n",
      "    step_mul: 8, game_steps_per_episode: 28800 \r\n",
      "\r\n",
      "Flat64\r\n",
      "    Melee/Flat64.SC2Map\r\n",
      "    players: 2, score_index: -1, score_multiplier: 1\r\n",
      "    step_mul: 8, game_steps_per_episode: 28800 \r\n",
      "\r\n",
      "Flat96\r\n",
      "    Melee/Flat96.SC2Map\r\n",
      "    players: 2, score_index: -1, score_multiplier: 1\r\n",
      "    step_mul: 8, game_steps_per_episode: 28800 \r\n",
      "\r\n",
      "Fracture\r\n",
      "    Ladder2018Season3/FractureLE.SC2Map\r\n",
      "    players: 2, score_index: -1, score_multiplier: 1\r\n",
      "    step_mul: 8, game_steps_per_episode: 28800 \r\n",
      "\r\n",
      "Frost\r\n",
      "    Ladder2017Season3/FrostLE.SC2Map\r\n",
      "    players: 2, score_index: -1, score_multiplier: 1\r\n",
      "    step_mul: 8, game_steps_per_episode: 28800 \r\n",
      "\r\n",
      "Honorgrounds\r\n",
      "    Ladder2017Season1/HonorgroundsLE.SC2Map\r\n",
      "    players: 4, score_index: -1, score_multiplier: 1\r\n",
      "    step_mul: 8, game_steps_per_episode: 28800 \r\n",
      "\r\n",
      "Interloper\r\n",
      "    Ladder2017Season3/InterloperLE.SC2Map\r\n",
      "    players: 2, score_index: -1, score_multiplier: 1\r\n",
      "    step_mul: 8, game_steps_per_episode: 28800 \r\n",
      "\r\n",
      "KairosJunction\r\n",
      "    Ladder2019Season1/KairosJunctionLE.SC2Map\r\n",
      "    players: 2, score_index: -1, score_multiplier: 1\r\n",
      "    step_mul: 8, game_steps_per_episode: 28800 \r\n",
      "\r\n",
      "KingsCove\r\n",
      "    Ladder2019Season1/KingsCoveLE.SC2Map\r\n",
      "    players: 2, score_index: -1, score_multiplier: 1\r\n",
      "    step_mul: 8, game_steps_per_episode: 28800 \r\n",
      "\r\n",
      "LostandFound\r\n",
      "    Ladder2018Season3/LostandFoundLE.SC2Map\r\n",
      "    players: 2, score_index: -1, score_multiplier: 1\r\n",
      "    step_mul: 8, game_steps_per_episode: 28800 \r\n",
      "\r\n",
      "MechDepot\r\n",
      "    Ladder2017Season3/MechDepotLE.SC2Map\r\n",
      "    players: 2, score_index: -1, score_multiplier: 1\r\n",
      "    step_mul: 8, game_steps_per_episode: 28800 \r\n",
      "\r\n",
      "MoveToBeacon\r\n",
      "    mini_games/MoveToBeacon.SC2Map\r\n",
      "    players: 1, score_index: 0, score_multiplier: 1\r\n",
      "    step_mul: 8, game_steps_per_episode: 0 \r\n",
      "\r\n",
      "NewRepugnancy\r\n",
      "    Ladder2019Season1/NewRepugnancyLE.SC2Map\r\n",
      "    players: 2, score_index: -1, score_multiplier: 1\r\n",
      "    step_mul: 8, game_steps_per_episode: 28800 \r\n",
      "\r\n",
      "NewkirkPrecinct\r\n",
      "    Ladder2017Season1/NewkirkPrecinctTE.SC2Map\r\n",
      "    players: 2, score_index: -1, score_multiplier: 1\r\n",
      "    step_mul: 8, game_steps_per_episode: 28800 \r\n",
      "\r\n",
      "Odyssey\r\n",
      "    Ladder2017Season4/OdysseyLE.SC2Map\r\n",
      "    players: 2, score_index: -1, score_multiplier: 1\r\n",
      "    step_mul: 8, game_steps_per_episode: 28800 \r\n",
      "\r\n",
      "PaladinoTerminal\r\n",
      "    Ladder2017Season1/PaladinoTerminalLE.SC2Map\r\n",
      "    players: 2, score_index: -1, score_multiplier: 1\r\n",
      "    step_mul: 8, game_steps_per_episode: 28800 \r\n",
      "\r\n",
      "ParaSite\r\n",
      "    Ladder2018Season4/ParaSiteLE.SC2Map\r\n",
      "    players: 2, score_index: -1, score_multiplier: 1\r\n",
      "    step_mul: 8, game_steps_per_episode: 28800 \r\n",
      "\r\n",
      "PortAleksander\r\n",
      "    Ladder2019Season1/PortAleksanderLE.SC2Map\r\n",
      "    players: 2, score_index: -1, score_multiplier: 1\r\n",
      "    step_mul: 8, game_steps_per_episode: 28800 \r\n",
      "\r\n",
      "ProximaStation\r\n",
      "    Ladder2017Season2/ProximaStationLE.SC2Map\r\n",
      "    players: 2, score_index: -1, score_multiplier: 1\r\n",
      "    step_mul: 8, game_steps_per_episode: 28800 \r\n",
      "\r\n",
      "Redshift\r\n",
      "    Ladder2018Season2/(2)RedshiftLE.SC2Map\r\n",
      "    players: 2, score_index: -1, score_multiplier: 1\r\n",
      "    step_mul: 8, game_steps_per_episode: 28800 \r\n",
      "\r\n",
      "Sequencer\r\n",
      "    Ladder2017Season2/SequencerLE.SC2Map\r\n",
      "    players: 2, score_index: -1, score_multiplier: 1\r\n",
      "    step_mul: 8, game_steps_per_episode: 28800 \r\n",
      "\r\n",
      "Simple128\r\n",
      "    Melee/Simple128.SC2Map\r\n",
      "    players: 2, score_index: -1, score_multiplier: 1\r\n",
      "    step_mul: 8, game_steps_per_episode: 28800 \r\n",
      "\r\n",
      "Simple64\r\n",
      "    Melee/Simple64.SC2Map\r\n",
      "    players: 2, score_index: -1, score_multiplier: 1\r\n",
      "    step_mul: 8, game_steps_per_episode: 28800 \r\n",
      "\r\n",
      "Simple96\r\n",
      "    Melee/Simple96.SC2Map\r\n",
      "    players: 2, score_index: -1, score_multiplier: 1\r\n",
      "    step_mul: 8, game_steps_per_episode: 28800 \r\n",
      "\r\n",
      "Stasis\r\n",
      "    Ladder2018Season4/StasisLE.SC2Map\r\n",
      "    players: 2, score_index: -1, score_multiplier: 1\r\n",
      "    step_mul: 8, game_steps_per_episode: 28800 \r\n",
      "\r\n",
      "YearZero\r\n",
      "    Ladder2019Season1/YearZeroLE.SC2Map\r\n",
      "    players: 2, score_index: -1, score_multiplier: 1\r\n",
      "    step_mul: 8, game_steps_per_episode: 28800 \r\n",
      "\r\n"
     ]
    }
   ],
   "source": [
    "!python -m pysc2.bin.map_list"
   ]
  },
  {
   "cell_type": "markdown",
   "metadata": {},
   "source": [
    "### Run an agent\n",
    "\n",
    "You can run an agent to test the environment. The UI shows you the actions of the agent and is helpful for debugging and visualization purposes.\n",
    "\n",
    "```shell\n",
    "$ python -m pysc2.bin.agent --map Simple64\n",
    "```"
   ]
  },
  {
   "cell_type": "markdown",
   "metadata": {},
   "source": [
    "<img src=\"figures/pysc2_run.jpeg\" width=600 />"
   ]
  },
  {
   "cell_type": "code",
   "execution_count": 2,
   "metadata": {
    "scrolled": true
   },
   "outputs": [
    {
     "name": "stdout",
     "output_type": "stream",
     "text": [
      "pygame 1.9.6\n",
      "Hello from the pygame community. https://www.pygame.org/contribute.html\n",
      "I0513 20:28:49.210214 4627801536 sc_process.py:110] Launching SC2: /Applications/StarCraft II/Versions/Base73620/SC2.app/Contents/MacOS/SC2 -listen 127.0.0.1 -port 24732 -dataDir /Applications/StarCraft II/ -tempDir /var/folders/bd/ly13_3254l11f2tvqcmxz6m80000gn/T/sc-51w8koa9/ -displayMode 0 -windowwidth 640 -windowheight 480 -windowx 50 -windowy 50\n",
      "I0513 20:28:49.215651 4627801536 remote_controller.py:163] Connecting to: ws://127.0.0.1:24732/sc2api, attempt: 0, running: True\n",
      "I0513 20:28:50.223614 4627801536 remote_controller.py:163] Connecting to: ws://127.0.0.1:24732/sc2api, attempt: 1, running: True\n",
      "err = 3 /opt/blizzard/buildserver/data.noindex/repositories/sc2/branches/SC2.4.8.d/Game/Contrib/macteam/libs/ClampCursor/Contrib/mach_override/mach_override.c:244\n",
      "err = 3 /opt/blizzard/buildserver/data.noindex/repositories/sc2/branches/SC2.4.8.d/Game/Contrib/macteam/libs/ClampCursor/Contrib/mach_override/mach_override.c:258\n",
      "err = 3 /opt/blizzard/buildserver/data.noindex/repositories/sc2/branches/SC2.4.8.d/Game/Contrib/macteam/libs/ClampCursor/Contrib/mach_override/mach_override.c:263\n",
      "I0513 20:28:51.227981 4627801536 remote_controller.py:163] Connecting to: ws://127.0.0.1:24732/sc2api, attempt: 2, running: True\n",
      "I0513 20:28:52.230225 4627801536 remote_controller.py:163] Connecting to: ws://127.0.0.1:24732/sc2api, attempt: 3, running: True\n",
      "I0513 20:28:53.230684 4627801536 remote_controller.py:163] Connecting to: ws://127.0.0.1:24732/sc2api, attempt: 4, running: True\n",
      "I0513 20:28:54.236216 4627801536 remote_controller.py:163] Connecting to: ws://127.0.0.1:24732/sc2api, attempt: 5, running: True\n",
      "I0513 20:28:55.239711 4627801536 remote_controller.py:163] Connecting to: ws://127.0.0.1:24732/sc2api, attempt: 6, running: True\n",
      "I0513 20:28:56.244047 4627801536 remote_controller.py:163] Connecting to: ws://127.0.0.1:24732/sc2api, attempt: 7, running: True\n",
      "I0513 20:28:57.249200 4627801536 remote_controller.py:163] Connecting to: ws://127.0.0.1:24732/sc2api, attempt: 8, running: True\n",
      "I0513 20:28:58.250602 4627801536 remote_controller.py:163] Connecting to: ws://127.0.0.1:24732/sc2api, attempt: 9, running: True\n",
      "I0513 20:28:59.252279 4627801536 remote_controller.py:163] Connecting to: ws://127.0.0.1:24732/sc2api, attempt: 10, running: True\n",
      "I0513 20:29:00.255532 4627801536 remote_controller.py:163] Connecting to: ws://127.0.0.1:24732/sc2api, attempt: 11, running: True\n",
      "I0513 20:29:01.260364 4627801536 remote_controller.py:163] Connecting to: ws://127.0.0.1:24732/sc2api, attempt: 12, running: True\n",
      "I0513 20:29:10.715205 4627801536 sc2_env.py:322] Environment is ready on map: Simple64\n",
      "I0513 20:29:10.715754 4627801536 sc2_env.py:462] Starting episode: 1\n",
      "   0/no_op                                              ()\n",
      "   1/move_camera                                        (1/minimap [64, 64])\n",
      "   2/select_point                                       (6/select_point_act [4]; 0/screen [84, 84])\n",
      "   3/select_rect                                        (7/select_add [2]; 0/screen [84, 84]; 2/screen2 [84, 84])\n",
      "   4/select_control_group                               (4/control_group_act [5]; 5/control_group_id [10])\n",
      " 453/Stop_quick                                         (3/queued [2])\n",
      " 230/Effect_Spray_screen                                (3/queued [2]; 0/screen [84, 84])\n",
      " 264/Harvest_Gather_screen                              (3/queued [2]; 0/screen [84, 84])\n",
      " 331/Move_screen                                        (3/queued [2]; 0/screen [84, 84])\n",
      " 332/Move_minimap                                       (3/queued [2]; 1/minimap [64, 64])\n",
      " 333/Patrol_screen                                      (3/queued [2]; 0/screen [84, 84])\n",
      " 334/Patrol_minimap                                     (3/queued [2]; 1/minimap [64, 64])\n",
      "  12/Attack_screen                                      (3/queued [2]; 0/screen [84, 84])\n",
      "  13/Attack_minimap                                     (3/queued [2]; 1/minimap [64, 64])\n",
      " 274/HoldPosition_quick                                 (3/queued [2])\n",
      "  52/Build_Extractor_screen                             (3/queued [2]; 0/screen [84, 84])\n",
      "   6/select_idle_worker                                 (10/select_worker [4])\n",
      "  51/Build_EvolutionChamber_screen                      (3/queued [2]; 0/screen [84, 84])\n",
      "   5/select_unit                                        (8/select_unit_act [4]; 9/select_unit_id [500])\n",
      " 269/Harvest_Return_quick                               (3/queued [2])\n",
      "   9/select_larva                                       ()\n",
      " 335/Rally_Units_screen                                 (3/queued [2]; 0/screen [84, 84])\n",
      " 336/Rally_Units_minimap                                (3/queued [2]; 1/minimap [64, 64])\n",
      " 343/Rally_Workers_screen                               (3/queued [2]; 0/screen [84, 84])\n",
      " 344/Rally_Workers_minimap                              (3/queued [2]; 1/minimap [64, 64])\n",
      " 483/Train_Overlord_quick                               (3/queued [2])\n",
      " 467/Train_Drone_quick                                  (3/queued [2])\n",
      " 168/Cancel_Last_quick                                  (3/queued [2])\n",
      "  84/Build_SpawningPool_screen                          (3/queued [2]; 0/screen [84, 84])\n",
      "  59/Build_Hatchery_screen                              (3/queued [2]; 0/screen [84, 84])\n",
      "I0513 20:29:51.174065 4627801536 sc2_env.py:632] Episode 1 finished after 12288 game steps. Outcome: [-1], reward: [-1], score: [855]\n",
      "I0513 20:29:56.011004 4627801536 sc2_env.py:462] Starting episode: 2\n",
      "  40/Build_Assimilator_screen                           (3/queued [2]; 0/screen [84, 84])\n",
      "  70/Build_Pylon_screen                                 (3/queued [2]; 0/screen [84, 84])\n",
      "  55/Build_Forge_screen                                 (3/queued [2]; 0/screen [84, 84])\n",
      "  57/Build_Gateway_screen                               (3/queued [2]; 0/screen [84, 84])\n",
      "  65/Build_Nexus_screen                                 (3/queued [2]; 0/screen [84, 84])\n",
      " 527/Effect_ChronoBoostEnergyCost_screen                (3/queued [2]; 0/screen [84, 84])\n",
      " 208/Effect_MassRecall_screen                           (3/queued [2]; 0/screen [84, 84])\n",
      " 485/Train_Probe_quick                                  (3/queued [2])\n",
      "  11/build_queue                                        (11/build_queue_id [10])\n",
      "I0513 20:30:32.108517 4627801536 sc2_env.py:632] Episode 2 finished after 11992 game steps. Outcome: [-1], reward: [-1], score: [975]\n",
      "I0513 20:30:36.508060 4627801536 sc2_env.py:462] Starting episode: 3\n",
      "  79/Build_Refinery_screen                              (3/queued [2]; 0/screen [84, 84])\n",
      "  91/Build_SupplyDepot_screen                           (3/queued [2]; 0/screen [84, 84])\n",
      " 220/Effect_Repair_screen                               (3/queued [2]; 0/screen [84, 84])\n",
      " 221/Effect_Repair_autocast                             ()\n",
      "  50/Build_EngineeringBay_screen                        (3/queued [2]; 0/screen [84, 84])\n",
      "  44/Build_CommandCenter_screen                         (3/queued [2]; 0/screen [84, 84])\n",
      "^C\n",
      "Took 91.672 seconds for 3219 steps: 35.114 fps\n"
     ]
    }
   ],
   "source": [
    "!python -m pysc2.bin.agent --map Simple64"
   ]
  },
  {
   "cell_type": "markdown",
   "metadata": {},
   "source": [
    "-------------------------"
   ]
  },
  {
   "cell_type": "markdown",
   "metadata": {},
   "source": [
    "# 참고자료\n",
    "* [1] StarCraft II Learning Environment - https://github.com/deepmind/pysc2"
   ]
  }
 ],
 "metadata": {
  "kernelspec": {
   "display_name": "Python 3",
   "language": "python",
   "name": "python3"
  },
  "language_info": {
   "codemirror_mode": {
    "name": "ipython",
    "version": 3
   },
   "file_extension": ".py",
   "mimetype": "text/x-python",
   "name": "python",
   "nbconvert_exporter": "python",
   "pygments_lexer": "ipython3",
   "version": "3.7.1"
  }
 },
 "nbformat": 4,
 "nbformat_minor": 2
}
