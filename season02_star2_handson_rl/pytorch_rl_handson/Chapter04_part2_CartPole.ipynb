{
 "cells": [
  {
   "cell_type": "code",
   "execution_count": 3,
   "metadata": {},
   "outputs": [],
   "source": [
    "import gym\n",
    "from collections import namedtuple\n",
    "import numpy as np\n",
    "from tensorboardX import SummaryWriter\n",
    "\n",
    "import torch\n",
    "import torch.nn as nn\n",
    "import torch.optim as optim"
   ]
  },
  {
   "cell_type": "markdown",
   "metadata": {},
   "source": [
    "## Cross-entropy on CartPole\n",
    "model's core is a one-hidden-layer neural network, with ReLU and 128 hidden neurons.  \n",
    "the count of episodes we play on every iteration is 16  \n",
    "We'll leave the top 30% of episodes sorted by reward == elite episodes"
   ]
  },
  {
   "cell_type": "code",
   "execution_count": 4,
   "metadata": {},
   "outputs": [],
   "source": [
    "HIDDEN_SIZE = 128\n",
    "BATCH_SIZE = 16\n",
    "PERCENTILE = 70"
   ]
  },
  {
   "cell_type": "code",
   "execution_count": 6,
   "metadata": {},
   "outputs": [],
   "source": [
    "class Net(nn.Module):\n",
    "    def __init__(self, obs_size, hidden_size, n_actions):\n",
    "        super(Net, self).__init__()\n",
    "        self.net = nn.Sequential(\n",
    "            nn.Linear(obs_size, hidden_size),\n",
    "            nn.ReLU(),\n",
    "            nn.Linear(hidden_size, n_actions)\n",
    "        )\n",
    "\n",
    "    def forward(self, x):\n",
    "        return self.net(x)"
   ]
  },
  {
   "cell_type": "markdown",
   "metadata": {},
   "source": [
    "환경으로부터 하나의 관측값을 입력벡터 형태로 가져오고, 우리가 행하는 매 행동이 스칼라 형태로 출력값이 나온다.  \n",
    "소프트맥스를 가장 마지막 층 다음에 추가시키는 것이 직관적인 방법이라고 할 수 있지만, 훈련과정에서의 수치적인 안정성을 위해서 소프트맥스를 추가하지 않았다. 대신에 Cross-entropy loss를 계산한다."
   ]
  },
  {
   "cell_type": "code",
   "execution_count": 7,
   "metadata": {},
   "outputs": [],
   "source": [
    "Episode = namedtuple('Episode', field_names=['reward', 'steps'])\n",
    "EpisodeStep = namedtuple('EpisodeStep', field_names=['observation', 'action'])"
   ]
  },
  {
   "cell_type": "code",
   "execution_count": 8,
   "metadata": {},
   "outputs": [],
   "source": [
    "def iterate_batches(env, net, batch_size):\n",
    "    batch = []\n",
    "    episode_reward = 0.0\n",
    "    episode_steps = []\n",
    "    obs = env.reset()\n",
    "    sm = nn.Softmax(dim=1)\n",
    "    while True:\n",
    "        ## 매 반복마다, 우리는 현 관찰값을 PyTorch Tensor로 변환하고\n",
    "        ## 텐서를 네트워크에 전달한다. 그러면 Action 확률들을 구할 수 있다.\n",
    "        obs_v = torch.FloatTensor([obs])\n",
    "        act_probs_v = sm(net(obs_v))  # 네트워크와 소프트맥스를 통과하면 경사를 따라 만들어진 텐서를 낸다\n",
    "        act_probs = act_probs_v.data.numpy()[0]  # 출력 텐서를 tensor.data로 unpack하고 Numpy array로 변환한다.\n",
    "        \n",
    "        ## Action들의 확률분포를 구할 수 있고, 이것을 가지고 random.choice로 샘플링해서 실제 action을 뽑는다. \n",
    "        action = np.random.choice(len(act_probs), p=act_probs)\n",
    "        next_obs, reward, is_done, _ = env.step(action) # action을 환경에 전달해서 다음 관측값과, 보상을 얻는다.\n",
    "        \n",
    "        # 보상은 계속 누적되며 episode_step 리스트에 (관측값, action)이 계속 추가된다.\n",
    "        episode_reward += reward\n",
    "        episode_steps.append(EpisodeStep(observation=obs, action=action)) # 튜플로 저장되는 것은 action의 결과로 발생되는 관측값이 아니라, action을 선택할 때 사용된 관측값이 저장된다.\n",
    "        \n",
    "        \n",
    "        if is_done:\n",
    "            batch.append(Episode(reward=episode_reward, steps=episode_steps))\n",
    "            episode_reward = 0.0  # 보상을 초기화한다.\n",
    "            episode_steps = []\n",
    "            next_obs = env.reset()  # 환경을 리셋한다.\n",
    "            if len(batch) == batch_size:\n",
    "                yield batch   # 반복문이 실행되는 중간중간에 batch 값을 전달해주기 위한 구문\n",
    "                batch = []    # batch를 초기화 시킨다.\n",
    "        obs = next_obs "
   ]
  },
  {
   "cell_type": "code",
   "execution_count": 9,
   "metadata": {},
   "outputs": [],
   "source": [
    "def filter_batch(batch, percentile):\n",
    "    ## 교차엔트로피 방법에서 가장 핵심적인 함수\n",
    "    ## 에피소드에서 주어진 배치와 퍼센티지 값을 가지고 경계 보상을 구한다.\n",
    "    ## 모니터링 용도로 평균 보상을 계산한다.\n",
    "    rewards = list(map(lambda s: s.reward, batch))\n",
    "    reward_bound = np.percentile(rewards, percentile)\n",
    "    reward_mean = float(np.mean(rewards))\n",
    "    \n",
    "    # 배치안에 있는 모든 에피소드들이 경계값보다 높은 보상을 갖고 있는지 확인한다.\n",
    "    # 그렇다면 관측값 List와 Action List에 각각 추가한다(각 Space를 확장)\n",
    "\n",
    "    train_obs = []\n",
    "    train_act = []\n",
    "    for example in batch:\n",
    "        if example.reward < reward_bound:\n",
    "            continue\n",
    "        train_obs.extend(map(lambda step: step.observation, example.steps))\n",
    "        train_act.extend(map(lambda step: step.action, example.steps))\n",
    "        \n",
    "    ## 엘리트 에피소드로부터 나온 관측값들과 action들을 텐서로 전환해준다.\n",
    "\n",
    "    train_obs_v = torch.FloatTensor(train_obs)\n",
    "    train_act_v = torch.LongTensor(train_act)\n",
    "    \n",
    "    # 네개의 원소를 가진 튜플을 반환한다.\n",
    "    return train_obs_v, train_act_v, reward_bound, reward_mean"
   ]
  },
  {
   "cell_type": "code",
   "execution_count": 10,
   "metadata": {},
   "outputs": [],
   "source": [
    "env = gym.make(\"CartPole-v0\")  ## 환경 객체를 만든다\n",
    "# env = gym.wrappers.Monitor(env, directory=\"mon\", force=True)\n",
    "obs_size = env.observation_space.shape[0]\n",
    "n_actions = env.action_space.n\n",
    "net = Net(obs_size, HIDDEN_SIZE, n_actions) ## 신경망 객체를 만든다.\n",
    "objective = nn.CrossEntropyLoss()  ## 목적함수 객체를 만든다.\n",
    "optimizer = optim.Adam(params=net.parameters(), lr=0.01) # 옵티마이저 객체를 만든다\n",
    "writer = SummaryWriter(comment=\"-cartpole\")  # 텐서보드용 SummaryWriter를 만든다."
   ]
  },
  {
   "cell_type": "code",
   "execution_count": 11,
   "metadata": {},
   "outputs": [
    {
     "name": "stdout",
     "output_type": "stream",
     "text": [
      "0: loss=0.678, reward_mean=23.9, reward_bound=30.5\n",
      "1: loss=0.683, reward_mean=22.1, reward_bound=28.5\n",
      "2: loss=0.692, reward_mean=22.1, reward_bound=24.5\n",
      "3: loss=0.675, reward_mean=29.9, reward_bound=32.0\n",
      "4: loss=0.658, reward_mean=29.4, reward_bound=34.0\n",
      "5: loss=0.652, reward_mean=31.2, reward_bound=37.0\n",
      "6: loss=0.638, reward_mean=41.4, reward_bound=49.5\n",
      "7: loss=0.650, reward_mean=35.4, reward_bound=35.5\n",
      "8: loss=0.637, reward_mean=42.4, reward_bound=45.0\n",
      "9: loss=0.624, reward_mean=34.8, reward_bound=40.0\n",
      "10: loss=0.608, reward_mean=38.6, reward_bound=48.5\n",
      "11: loss=0.626, reward_mean=49.9, reward_bound=59.5\n",
      "12: loss=0.606, reward_mean=43.4, reward_bound=54.5\n",
      "13: loss=0.618, reward_mean=61.2, reward_bound=67.0\n",
      "14: loss=0.610, reward_mean=73.7, reward_bound=80.5\n",
      "15: loss=0.598, reward_mean=70.8, reward_bound=86.5\n",
      "16: loss=0.598, reward_mean=72.2, reward_bound=99.5\n",
      "17: loss=0.589, reward_mean=91.2, reward_bound=113.5\n",
      "18: loss=0.589, reward_mean=84.5, reward_bound=96.5\n",
      "19: loss=0.604, reward_mean=72.8, reward_bound=78.0\n",
      "20: loss=0.593, reward_mean=68.4, reward_bound=77.5\n",
      "21: loss=0.584, reward_mean=102.2, reward_bound=133.0\n",
      "22: loss=0.574, reward_mean=94.3, reward_bound=119.0\n",
      "23: loss=0.588, reward_mean=118.2, reward_bound=137.5\n",
      "24: loss=0.570, reward_mean=110.0, reward_bound=123.0\n",
      "25: loss=0.581, reward_mean=97.2, reward_bound=109.5\n",
      "26: loss=0.573, reward_mean=123.5, reward_bound=148.5\n",
      "27: loss=0.582, reward_mean=109.9, reward_bound=126.5\n",
      "28: loss=0.585, reward_mean=117.9, reward_bound=136.0\n",
      "29: loss=0.556, reward_mean=154.0, reward_bound=185.5\n",
      "30: loss=0.558, reward_mean=136.0, reward_bound=161.5\n",
      "31: loss=0.552, reward_mean=147.0, reward_bound=181.0\n",
      "32: loss=0.565, reward_mean=129.6, reward_bound=132.0\n",
      "33: loss=0.550, reward_mean=160.1, reward_bound=200.0\n",
      "34: loss=0.561, reward_mean=162.7, reward_bound=200.0\n",
      "35: loss=0.549, reward_mean=179.5, reward_bound=200.0\n",
      "36: loss=0.545, reward_mean=161.1, reward_bound=200.0\n",
      "37: loss=0.552, reward_mean=170.6, reward_bound=200.0\n",
      "38: loss=0.546, reward_mean=162.8, reward_bound=200.0\n",
      "39: loss=0.556, reward_mean=196.6, reward_bound=200.0\n",
      "40: loss=0.546, reward_mean=189.4, reward_bound=200.0\n",
      "41: loss=0.543, reward_mean=197.6, reward_bound=200.0\n",
      "42: loss=0.545, reward_mean=192.1, reward_bound=200.0\n",
      "43: loss=0.534, reward_mean=199.3, reward_bound=200.0\n",
      "Solved!\n"
     ]
    }
   ],
   "source": [
    "for iter_no, batch in enumerate(iterate_batches(env, net, BATCH_SIZE)):\n",
    "    obs_v, acts_v, reward_b, reward_m = filter_batch(batch, PERCENTILE)  # 배치 필터링\n",
    "    optimizer.zero_grad()\n",
    "    action_scores_v = net(obs_v) # 관측값을 신경망에 통과시킨다 --> action score가 나온다\n",
    "    loss_v = objective(action_scores_v, acts_v) # action score와 실제 agent가 취한 action을 목적함수에 넣으면 교차엔트로피 손실값이 나온다.\n",
    "    loss_v.backward() # gradient를 구한다.\n",
    "    optimizer.step() # 옵티마이저로 하여금 네트워크를 수정하게 한다.\n",
    "    print(\"%d: loss=%.3f, reward_mean=%.1f, reward_bound=%.1f\" % (iter_no, loss_v.item(), reward_m, reward_b))\n",
    "    writer.add_scalar(\"loss\", loss_v.item(), iter_no)\n",
    "    writer.add_scalar(\"reward_bound\", reward_b, iter_no)\n",
    "    writer.add_scalar(\"reward_mean\", reward_m, iter_no)\n",
    "    if reward_m > 199:\n",
    "        print(\"Solved!\")\n",
    "        break"
   ]
  },
  {
   "cell_type": "code",
   "execution_count": 12,
   "metadata": {},
   "outputs": [],
   "source": [
    "writer.close()"
   ]
  },
  {
   "cell_type": "code",
   "execution_count": 1,
   "metadata": {},
   "outputs": [
    {
     "name": "stdout",
     "output_type": "stream",
     "text": [
      "0: loss=0.675, reward_mean=25.9, reward_bound=30.0\n",
      "1: loss=0.674, reward_mean=27.4, reward_bound=39.0\n",
      "2: loss=0.644, reward_mean=40.6, reward_bound=53.0\n",
      "3: loss=0.639, reward_mean=46.3, reward_bound=53.0\n",
      "4: loss=0.626, reward_mean=49.6, reward_bound=61.5\n",
      "5: loss=0.625, reward_mean=51.9, reward_bound=55.5\n",
      "6: loss=0.603, reward_mean=57.4, reward_bound=68.0\n",
      "7: loss=0.600, reward_mean=59.2, reward_bound=65.5\n",
      "8: loss=0.594, reward_mean=67.4, reward_bound=77.0\n",
      "9: loss=0.575, reward_mean=69.4, reward_bound=73.5\n",
      "10: loss=0.570, reward_mean=81.4, reward_bound=106.0\n",
      "11: loss=0.576, reward_mean=73.2, reward_bound=87.5\n",
      "12: loss=0.564, reward_mean=82.9, reward_bound=99.0\n",
      "13: loss=0.567, reward_mean=75.9, reward_bound=94.5\n",
      "14: loss=0.572, reward_mean=75.2, reward_bound=83.5\n",
      "15: loss=0.541, reward_mean=72.8, reward_bound=67.0\n",
      "16: loss=0.561, reward_mean=78.4, reward_bound=89.5\n",
      "17: loss=0.553, reward_mean=93.4, reward_bound=92.5\n",
      "18: loss=0.536, reward_mean=83.0, reward_bound=86.0\n",
      "19: loss=0.542, reward_mean=99.8, reward_bound=110.0\n",
      "20: loss=0.561, reward_mean=109.2, reward_bound=122.0\n",
      "21: loss=0.534, reward_mean=136.3, reward_bound=169.0\n",
      "22: loss=0.521, reward_mean=143.6, reward_bound=183.5\n",
      "23: loss=0.534, reward_mean=145.9, reward_bound=170.0\n",
      "24: loss=0.530, reward_mean=154.1, reward_bound=189.5\n",
      "25: loss=0.544, reward_mean=175.2, reward_bound=197.5\n",
      "26: loss=0.554, reward_mean=172.1, reward_bound=191.0\n",
      "27: loss=0.528, reward_mean=178.1, reward_bound=200.0\n",
      "28: loss=0.521, reward_mean=172.2, reward_bound=200.0\n",
      "29: loss=0.539, reward_mean=174.9, reward_bound=200.0\n",
      "30: loss=0.528, reward_mean=179.8, reward_bound=200.0\n",
      "31: loss=0.522, reward_mean=181.2, reward_bound=200.0\n",
      "32: loss=0.523, reward_mean=190.9, reward_bound=200.0\n",
      "33: loss=0.527, reward_mean=189.5, reward_bound=200.0\n",
      "34: loss=0.520, reward_mean=187.2, reward_bound=200.0\n",
      "35: loss=0.514, reward_mean=190.6, reward_bound=200.0\n",
      "36: loss=0.524, reward_mean=186.1, reward_bound=200.0\n",
      "37: loss=0.516, reward_mean=194.8, reward_bound=200.0\n",
      "38: loss=0.517, reward_mean=189.9, reward_bound=200.0\n",
      "39: loss=0.514, reward_mean=200.0, reward_bound=200.0\n",
      "Solved!\n"
     ]
    }
   ],
   "source": [
    "!xvfb-run -s \"-screen 0 640x480x24\" ./01_cartpole.py"
   ]
  }
 ],
 "metadata": {
  "anaconda-cloud": {},
  "kernelspec": {
   "display_name": "Python [conda env:pytorch]",
   "language": "python",
   "name": "conda-env-pytorch-py"
  },
  "language_info": {
   "codemirror_mode": {
    "name": "ipython",
    "version": 3
   },
   "file_extension": ".py",
   "mimetype": "text/x-python",
   "name": "python",
   "nbconvert_exporter": "python",
   "pygments_lexer": "ipython3",
   "version": "3.7.3"
  }
 },
 "nbformat": 4,
 "nbformat_minor": 2
}
