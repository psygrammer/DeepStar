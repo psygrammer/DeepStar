{
 "cells": [
  {
   "cell_type": "markdown",
   "metadata": {},
   "source": [
    "<h2> Chap2. OpenAI Gym"
   ]
  },
  {
   "cell_type": "markdown",
   "metadata": {},
   "source": [
    "Install : https://gym.openai.com/docs/"
   ]
  },
  {
   "cell_type": "markdown",
   "metadata": {},
   "source": [
    "<h3> Agent anatomy"
   ]
  },
  {
   "cell_type": "code",
   "execution_count": 1,
   "metadata": {},
   "outputs": [],
   "source": [
    "import random\n",
    "\n",
    "\n",
    "class Environment:\n",
    "    def __init__(self):\n",
    "        self.steps_left = 10\n",
    "\n",
    "    def get_observation(self):\n",
    "        return [0.0, 0.0, 0.0]\n",
    "\n",
    "    def get_actions(self):\n",
    "        return [0, 1]\n",
    "\n",
    "    def is_done(self):\n",
    "        return self.steps_left == 0\n",
    "\n",
    "    def action(self, action):\n",
    "        if self.is_done():\n",
    "            raise Exception(\"Game is over\")\n",
    "        self.steps_left -= 1\n",
    "        return random.random()\n",
    "\n",
    "\n",
    "class Agent:\n",
    "    def __init__(self):\n",
    "        self.total_reward = 0.0\n",
    "\n",
    "    def step(self, env):\n",
    "        current_obs = env.get_observation()\n",
    "        actions = env.get_actions()\n",
    "        reward = env.action(random.choice(actions))\n",
    "        self.total_reward += reward"
   ]
  },
  {
   "cell_type": "code",
   "execution_count": 2,
   "metadata": {},
   "outputs": [
    {
     "name": "stdout",
     "output_type": "stream",
     "text": [
      "Total reward got: 6.1828\n"
     ]
    }
   ],
   "source": [
    "env = Environment()\n",
    "agent = Agent()\n",
    "\n",
    "while not env.is_done():\n",
    "    agent.step(env)\n",
    "\n",
    "print(\"Total reward got: %.4f\" % agent.total_reward)"
   ]
  },
  {
   "cell_type": "markdown",
   "metadata": {},
   "source": [
    "<h3> Cartpole random"
   ]
  },
  {
   "cell_type": "code",
   "execution_count": 3,
   "metadata": {},
   "outputs": [],
   "source": [
    "import gym\n",
    "\n",
    "\n",
    "def random():\n",
    "    env = gym.make(\"CartPole-v0\")\n",
    "\n",
    "    total_reward = 0.0\n",
    "    total_steps = 0\n",
    "    obs = env.reset()\n",
    "\n",
    "    while True:\n",
    "        action = env.action_space.sample()\n",
    "        obs, reward, done, _ = env.step(action)\n",
    "        total_reward += reward\n",
    "        total_steps += 1\n",
    "        if done:\n",
    "            break\n",
    "\n",
    "    print(\"Episode done in %d steps, total reward %.2f\" % (total_steps, total_reward))"
   ]
  },
  {
   "cell_type": "code",
   "execution_count": 4,
   "metadata": {},
   "outputs": [
    {
     "name": "stdout",
     "output_type": "stream",
     "text": [
      "Episode done in 28 steps, total reward 28.00\n"
     ]
    }
   ],
   "source": [
    "random()"
   ]
  },
  {
   "cell_type": "markdown",
   "metadata": {},
   "source": [
    "<h3> Random Actionwrapper"
   ]
  },
  {
   "cell_type": "code",
   "execution_count": 5,
   "metadata": {},
   "outputs": [],
   "source": [
    "import gym\n",
    "import random\n",
    "\n",
    "\n",
    "class RandomActionWrapper(gym.ActionWrapper):\n",
    "    def __init__(self, env, epsilon=0.1):\n",
    "        super(RandomActionWrapper, self).__init__(env)\n",
    "        self.epsilon = epsilon\n",
    "\n",
    "    def action(self, action):\n",
    "        if random.random() < self.epsilon:\n",
    "            print(\"Random!\")\n",
    "            return self.env.action_space.sample()\n",
    "        return action"
   ]
  },
  {
   "cell_type": "code",
   "execution_count": 6,
   "metadata": {},
   "outputs": [
    {
     "name": "stdout",
     "output_type": "stream",
     "text": [
      "Random!\n",
      "Reward got: 10.00\n"
     ]
    }
   ],
   "source": [
    "env = RandomActionWrapper(gym.make(\"CartPole-v0\"))\n",
    "\n",
    "obs = env.reset()\n",
    "total_reward = 0.0\n",
    "\n",
    "while True:\n",
    "    obs, reward, done, _ = env.step(0)\n",
    "    total_reward += reward\n",
    "    if done:\n",
    "        break\n",
    "\n",
    "print(\"Reward got: %.2f\" % total_reward)"
   ]
  },
  {
   "cell_type": "markdown",
   "metadata": {},
   "source": [
    "<h3> Cartpole Random Monitor"
   ]
  },
  {
   "cell_type": "code",
   "execution_count": 11,
   "metadata": {},
   "outputs": [
    {
     "name": "stdout",
     "output_type": "stream",
     "text": [
      "[ 0.02296346 -0.22127322  0.04820323  0.32388331]\n",
      "[ 0.018538   -0.0268696   0.0546809   0.04678285]\n",
      "[ 0.01800061  0.16742736  0.05561656 -0.22815881]\n",
      "[ 0.02134916 -0.02844346  0.05105338  0.08153598]\n",
      "[ 0.02078029  0.16591088  0.0526841  -0.19461251]\n",
      "[ 0.0240985  -0.02992356  0.04879185  0.11421353]\n",
      "[ 0.02350003 -0.22570945  0.05107612  0.42188198]\n",
      "[ 0.01898584 -0.03134693  0.05951376  0.14572826]\n",
      "[ 0.01835891  0.16287448  0.06242832 -0.12760135]\n",
      "[ 0.0216164   0.35704913  0.0598763  -0.39995394]\n",
      "[ 0.02875738  0.16113119  0.05187722 -0.08901056]\n",
      "[ 0.03198    -0.0346945   0.05009701  0.21957786]\n",
      "[ 0.03128611  0.15967688  0.05448856 -0.05689107]\n",
      "[ 0.03447965  0.35397694  0.05335074 -0.33189688]\n",
      "[ 0.04155919  0.54830051  0.04671281 -0.60728984]\n",
      "[ 0.0525252   0.35255764  0.03456701 -0.30026724]\n",
      "[0.05957635 0.15696047 0.02856166 0.00311391]\n",
      "[ 0.06271556 -0.03855921  0.02862394  0.3046698 ]\n",
      "[ 0.06194438 -0.23407713  0.03471734  0.60624084]\n",
      "[ 0.05726283 -0.42966689  0.04684216  0.90965354]\n",
      "[ 0.0486695  -0.62539044  0.06503523  1.2166834 ]\n",
      "[ 0.03616169 -0.43116473  0.08936889  0.94506761]\n",
      "[ 0.02753839 -0.23735284  0.10827025  0.68174945]\n",
      "[ 0.02279134 -0.4337986   0.12190524  1.00646195]\n",
      "[ 0.01411536 -0.24049666  0.14203447  0.75441228]\n",
      "[ 0.00930543 -0.4372612   0.15712272  1.08820486]\n",
      "[ 5.60206340e-04 -6.34066244e-01  1.78886817e-01  1.42578019e+00]\n",
      "[-0.01212112 -0.83089045  0.20740242  1.7686179 ]\n",
      "[-0.02873893 -1.02766337  0.24277478  2.11799185]\n",
      "Episode done in 29 steps, total reward 29.00\n"
     ]
    }
   ],
   "source": [
    "import gym\n",
    "import time\n",
    "\n",
    "env = gym.make(\"CartPole-v0\")\n",
    "env = gym.wrappers.Monitor(env, \"recording\", force=True)\n",
    "\n",
    "total_reward = 0.0\n",
    "total_steps = 0\n",
    "obs = env.reset()\n",
    "\n",
    "while True:\n",
    "    action = env.action_space.sample()\n",
    "    obs, reward, done, _ = env.step(action)\n",
    "    print(obs)\n",
    "    total_reward += reward\n",
    "    total_steps += 1\n",
    "    time.sleep(1/60)\n",
    "    if done:\n",
    "        break\n",
    "\n",
    "print(\"Episode done in %d steps, total reward %.2f\" % (total_steps, total_reward))\n",
    "env.close()\n",
    "env.env.close()"
   ]
  },
  {
   "cell_type": "markdown",
   "metadata": {},
   "source": [
    "<b>Last observation<br></b>\n",
    "x : -0.02873893 <br>\n",
    "θ : -1.02766337<br>\n",
    "dx/dt : 0.24277478<br>\n",
    "dθ/dt : 2.11799185<br>"
   ]
  },
  {
   "cell_type": "code",
   "execution_count": null,
   "metadata": {},
   "outputs": [],
   "source": []
  }
 ],
 "metadata": {
  "anaconda-cloud": {},
  "kernelspec": {
   "display_name": "Python [conda root]",
   "language": "python",
   "name": "conda-root-py"
  },
  "language_info": {
   "codemirror_mode": {
    "name": "ipython",
    "version": 3
   },
   "file_extension": ".py",
   "mimetype": "text/x-python",
   "name": "python",
   "nbconvert_exporter": "python",
   "pygments_lexer": "ipython3",
   "version": "3.5.4"
  }
 },
 "nbformat": 4,
 "nbformat_minor": 1
}
